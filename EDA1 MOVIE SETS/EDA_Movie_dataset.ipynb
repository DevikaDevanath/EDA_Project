{
 "cells": [
  {
   "cell_type": "code",
   "execution_count": 2,
   "metadata": {},
   "outputs": [],
   "source": [
    "import pandas as pd\n",
    "import numpy as np\n",
    "import seaborn as sns\n",
    "import matplotlib.pyplot as plt"
   ]
  },
  {
   "cell_type": "code",
   "execution_count": 9,
   "metadata": {},
   "outputs": [
    {
     "name": "stdout",
     "output_type": "stream",
     "text": [
      "Dataset URL: https://www.kaggle.com/datasets/adriankiezun/imdb-dataset-2023\n",
      "          id    primaryTitle   originalTitle  isAdult  runtimeMinutes  \\\n",
      "0  tt0035423  Kate & Leopold  Kate & Leopold        0             118   \n",
      "1  tt0065421  The Aristocats  The AristoCats        0              78   \n",
      "2  tt0065938  Kelly's Heroes  Kelly's Heroes        0             144   \n",
      "3  tt0066026         M*A*S*H         M*A*S*H        0             116   \n",
      "4  tt0066206          Patton          Patton        0             172   \n",
      "\n",
      "                       genres  averageRating  numVotes    budget       gross  \\\n",
      "0      Comedy,Fantasy,Romance            6.4     87925  48000000  76019048.0   \n",
      "1  Adventure,Animation,Comedy            7.1    111758   4000000  35459543.0   \n",
      "2        Adventure,Comedy,War            7.6     52628   4000000   5200000.0   \n",
      "3            Comedy,Drama,War            7.4     75784   3500000  81600000.0   \n",
      "4         Biography,Drama,War            7.9    106476  12000000  61749765.0   \n",
      "\n",
      "        release_date              directors  \n",
      "0  December 11, 2001          James Mangold  \n",
      "1  December 11, 1970    Wolfgang Reitherman  \n",
      "2    January 1, 1970        Brian G. Hutton  \n",
      "3   January 25, 1970          Robert Altman  \n",
      "4   February 4, 1970  Franklin J. Schaffner  \n"
     ]
    }
   ],
   "source": [
    "import os\n",
    "from kaggle.api.kaggle_api_extended import KaggleApi\n",
    "\n",
    "api = KaggleApi()\n",
    "api.authenticate()\n",
    "\n",
    "# Download the dataset\n",
    "dataset = \"adriankiezun/imdb-dataset-2023\"\n",
    "api.dataset_download_files(dataset, path=\"./\", unzip=True)\n",
    "\n",
    "# Load the dataset\n",
    "import pandas as pd\n",
    "df = pd.read_csv(\"imdb_data.csv\")\n",
    "print(df.head())\n"
   ]
  },
  {
   "cell_type": "code",
   "execution_count": 10,
   "metadata": {},
   "outputs": [
    {
     "data": {
      "text/html": [
       "<div>\n",
       "<style scoped>\n",
       "    .dataframe tbody tr th:only-of-type {\n",
       "        vertical-align: middle;\n",
       "    }\n",
       "\n",
       "    .dataframe tbody tr th {\n",
       "        vertical-align: top;\n",
       "    }\n",
       "\n",
       "    .dataframe thead th {\n",
       "        text-align: right;\n",
       "    }\n",
       "</style>\n",
       "<table border=\"1\" class=\"dataframe\">\n",
       "  <thead>\n",
       "    <tr style=\"text-align: right;\">\n",
       "      <th></th>\n",
       "      <th>id</th>\n",
       "      <th>primaryTitle</th>\n",
       "      <th>originalTitle</th>\n",
       "      <th>isAdult</th>\n",
       "      <th>runtimeMinutes</th>\n",
       "      <th>genres</th>\n",
       "      <th>averageRating</th>\n",
       "      <th>numVotes</th>\n",
       "      <th>budget</th>\n",
       "      <th>gross</th>\n",
       "      <th>release_date</th>\n",
       "      <th>directors</th>\n",
       "    </tr>\n",
       "  </thead>\n",
       "  <tbody>\n",
       "    <tr>\n",
       "      <th>0</th>\n",
       "      <td>tt0035423</td>\n",
       "      <td>Kate &amp; Leopold</td>\n",
       "      <td>Kate &amp; Leopold</td>\n",
       "      <td>0</td>\n",
       "      <td>118</td>\n",
       "      <td>Comedy,Fantasy,Romance</td>\n",
       "      <td>6.4</td>\n",
       "      <td>87925</td>\n",
       "      <td>48000000</td>\n",
       "      <td>76019048.0</td>\n",
       "      <td>December 11, 2001</td>\n",
       "      <td>James Mangold</td>\n",
       "    </tr>\n",
       "    <tr>\n",
       "      <th>1</th>\n",
       "      <td>tt0065421</td>\n",
       "      <td>The Aristocats</td>\n",
       "      <td>The AristoCats</td>\n",
       "      <td>0</td>\n",
       "      <td>78</td>\n",
       "      <td>Adventure,Animation,Comedy</td>\n",
       "      <td>7.1</td>\n",
       "      <td>111758</td>\n",
       "      <td>4000000</td>\n",
       "      <td>35459543.0</td>\n",
       "      <td>December 11, 1970</td>\n",
       "      <td>Wolfgang Reitherman</td>\n",
       "    </tr>\n",
       "    <tr>\n",
       "      <th>2</th>\n",
       "      <td>tt0065938</td>\n",
       "      <td>Kelly's Heroes</td>\n",
       "      <td>Kelly's Heroes</td>\n",
       "      <td>0</td>\n",
       "      <td>144</td>\n",
       "      <td>Adventure,Comedy,War</td>\n",
       "      <td>7.6</td>\n",
       "      <td>52628</td>\n",
       "      <td>4000000</td>\n",
       "      <td>5200000.0</td>\n",
       "      <td>January 1, 1970</td>\n",
       "      <td>Brian G. Hutton</td>\n",
       "    </tr>\n",
       "    <tr>\n",
       "      <th>3</th>\n",
       "      <td>tt0066026</td>\n",
       "      <td>M*A*S*H</td>\n",
       "      <td>M*A*S*H</td>\n",
       "      <td>0</td>\n",
       "      <td>116</td>\n",
       "      <td>Comedy,Drama,War</td>\n",
       "      <td>7.4</td>\n",
       "      <td>75784</td>\n",
       "      <td>3500000</td>\n",
       "      <td>81600000.0</td>\n",
       "      <td>January 25, 1970</td>\n",
       "      <td>Robert Altman</td>\n",
       "    </tr>\n",
       "    <tr>\n",
       "      <th>4</th>\n",
       "      <td>tt0066206</td>\n",
       "      <td>Patton</td>\n",
       "      <td>Patton</td>\n",
       "      <td>0</td>\n",
       "      <td>172</td>\n",
       "      <td>Biography,Drama,War</td>\n",
       "      <td>7.9</td>\n",
       "      <td>106476</td>\n",
       "      <td>12000000</td>\n",
       "      <td>61749765.0</td>\n",
       "      <td>February 4, 1970</td>\n",
       "      <td>Franklin J. Schaffner</td>\n",
       "    </tr>\n",
       "  </tbody>\n",
       "</table>\n",
       "</div>"
      ],
      "text/plain": [
       "          id    primaryTitle   originalTitle  isAdult  runtimeMinutes  \\\n",
       "0  tt0035423  Kate & Leopold  Kate & Leopold        0             118   \n",
       "1  tt0065421  The Aristocats  The AristoCats        0              78   \n",
       "2  tt0065938  Kelly's Heroes  Kelly's Heroes        0             144   \n",
       "3  tt0066026         M*A*S*H         M*A*S*H        0             116   \n",
       "4  tt0066206          Patton          Patton        0             172   \n",
       "\n",
       "                       genres  averageRating  numVotes    budget       gross  \\\n",
       "0      Comedy,Fantasy,Romance            6.4     87925  48000000  76019048.0   \n",
       "1  Adventure,Animation,Comedy            7.1    111758   4000000  35459543.0   \n",
       "2        Adventure,Comedy,War            7.6     52628   4000000   5200000.0   \n",
       "3            Comedy,Drama,War            7.4     75784   3500000  81600000.0   \n",
       "4         Biography,Drama,War            7.9    106476  12000000  61749765.0   \n",
       "\n",
       "        release_date              directors  \n",
       "0  December 11, 2001          James Mangold  \n",
       "1  December 11, 1970    Wolfgang Reitherman  \n",
       "2    January 1, 1970        Brian G. Hutton  \n",
       "3   January 25, 1970          Robert Altman  \n",
       "4   February 4, 1970  Franklin J. Schaffner  "
      ]
     },
     "execution_count": 10,
     "metadata": {},
     "output_type": "execute_result"
    }
   ],
   "source": [
    "df.head()"
   ]
  },
  {
   "cell_type": "code",
   "execution_count": 11,
   "metadata": {},
   "outputs": [
    {
     "data": {
      "text/plain": [
       "id                 0\n",
       "primaryTitle       0\n",
       "originalTitle      0\n",
       "isAdult            0\n",
       "runtimeMinutes     0\n",
       "genres             0\n",
       "averageRating      0\n",
       "numVotes           0\n",
       "budget             0\n",
       "gross             51\n",
       "release_date       5\n",
       "directors          0\n",
       "dtype: int64"
      ]
     },
     "execution_count": 11,
     "metadata": {},
     "output_type": "execute_result"
    }
   ],
   "source": [
    "df.isna().sum()"
   ]
  },
  {
   "cell_type": "code",
   "execution_count": 8,
   "metadata": {},
   "outputs": [],
   "source": [
    "df = df.dropna(axis=1)"
   ]
  },
  {
   "cell_type": "code",
   "execution_count": 9,
   "metadata": {},
   "outputs": [
    {
     "data": {
      "text/plain": [
       "id                0\n",
       "primaryTitle      0\n",
       "originalTitle     0\n",
       "isAdult           0\n",
       "runtimeMinutes    0\n",
       "genres            0\n",
       "averageRating     0\n",
       "numVotes          0\n",
       "budget            0\n",
       "directors         0\n",
       "dtype: int64"
      ]
     },
     "execution_count": 9,
     "metadata": {},
     "output_type": "execute_result"
    }
   ],
   "source": [
    "df.isna().sum()"
   ]
  },
  {
   "cell_type": "code",
   "execution_count": 10,
   "metadata": {},
   "outputs": [
    {
     "data": {
      "text/plain": [
       "np.int64(0)"
      ]
     },
     "execution_count": 10,
     "metadata": {},
     "output_type": "execute_result"
    }
   ],
   "source": [
    "df.duplicated().sum()"
   ]
  },
  {
   "cell_type": "code",
   "execution_count": 11,
   "metadata": {},
   "outputs": [
    {
     "data": {
      "text/html": [
       "<div>\n",
       "<style scoped>\n",
       "    .dataframe tbody tr th:only-of-type {\n",
       "        vertical-align: middle;\n",
       "    }\n",
       "\n",
       "    .dataframe tbody tr th {\n",
       "        vertical-align: top;\n",
       "    }\n",
       "\n",
       "    .dataframe thead th {\n",
       "        text-align: right;\n",
       "    }\n",
       "</style>\n",
       "<table border=\"1\" class=\"dataframe\">\n",
       "  <thead>\n",
       "    <tr style=\"text-align: right;\">\n",
       "      <th></th>\n",
       "      <th>isAdult</th>\n",
       "      <th>runtimeMinutes</th>\n",
       "      <th>averageRating</th>\n",
       "      <th>numVotes</th>\n",
       "      <th>budget</th>\n",
       "    </tr>\n",
       "  </thead>\n",
       "  <tbody>\n",
       "    <tr>\n",
       "      <th>isAdult</th>\n",
       "      <td>0.0</td>\n",
       "      <td>0.000000e+00</td>\n",
       "      <td>0.000000e+00</td>\n",
       "      <td>0.000000e+00</td>\n",
       "      <td>0.000000e+00</td>\n",
       "    </tr>\n",
       "    <tr>\n",
       "      <th>runtimeMinutes</th>\n",
       "      <td>0.0</td>\n",
       "      <td>3.971134e+02</td>\n",
       "      <td>6.328402e+00</td>\n",
       "      <td>1.649318e+06</td>\n",
       "      <td>3.189942e+08</td>\n",
       "    </tr>\n",
       "    <tr>\n",
       "      <th>averageRating</th>\n",
       "      <td>0.0</td>\n",
       "      <td>6.328402e+00</td>\n",
       "      <td>7.782939e-01</td>\n",
       "      <td>1.060545e+05</td>\n",
       "      <td>-3.632519e+06</td>\n",
       "    </tr>\n",
       "    <tr>\n",
       "      <th>numVotes</th>\n",
       "      <td>0.0</td>\n",
       "      <td>1.649318e+06</td>\n",
       "      <td>1.060545e+05</td>\n",
       "      <td>6.151445e+10</td>\n",
       "      <td>3.937835e+12</td>\n",
       "    </tr>\n",
       "    <tr>\n",
       "      <th>budget</th>\n",
       "      <td>0.0</td>\n",
       "      <td>3.189942e+08</td>\n",
       "      <td>-3.632519e+06</td>\n",
       "      <td>3.937835e+12</td>\n",
       "      <td>2.681805e+15</td>\n",
       "    </tr>\n",
       "  </tbody>\n",
       "</table>\n",
       "</div>"
      ],
      "text/plain": [
       "                isAdult  runtimeMinutes  averageRating      numVotes  \\\n",
       "isAdult             0.0    0.000000e+00   0.000000e+00  0.000000e+00   \n",
       "runtimeMinutes      0.0    3.971134e+02   6.328402e+00  1.649318e+06   \n",
       "averageRating       0.0    6.328402e+00   7.782939e-01  1.060545e+05   \n",
       "numVotes            0.0    1.649318e+06   1.060545e+05  6.151445e+10   \n",
       "budget              0.0    3.189942e+08  -3.632519e+06  3.937835e+12   \n",
       "\n",
       "                      budget  \n",
       "isAdult         0.000000e+00  \n",
       "runtimeMinutes  3.189942e+08  \n",
       "averageRating  -3.632519e+06  \n",
       "numVotes        3.937835e+12  \n",
       "budget          2.681805e+15  "
      ]
     },
     "execution_count": 11,
     "metadata": {},
     "output_type": "execute_result"
    }
   ],
   "source": [
    "df.cov(numeric_only=True)"
   ]
  },
  {
   "cell_type": "code",
   "execution_count": 12,
   "metadata": {},
   "outputs": [
    {
     "data": {
      "text/html": [
       "<div>\n",
       "<style scoped>\n",
       "    .dataframe tbody tr th:only-of-type {\n",
       "        vertical-align: middle;\n",
       "    }\n",
       "\n",
       "    .dataframe tbody tr th {\n",
       "        vertical-align: top;\n",
       "    }\n",
       "\n",
       "    .dataframe thead th {\n",
       "        text-align: right;\n",
       "    }\n",
       "</style>\n",
       "<table border=\"1\" class=\"dataframe\">\n",
       "  <thead>\n",
       "    <tr style=\"text-align: right;\">\n",
       "      <th></th>\n",
       "      <th>isAdult</th>\n",
       "      <th>runtimeMinutes</th>\n",
       "      <th>averageRating</th>\n",
       "      <th>numVotes</th>\n",
       "      <th>budget</th>\n",
       "    </tr>\n",
       "  </thead>\n",
       "  <tbody>\n",
       "    <tr>\n",
       "      <th>isAdult</th>\n",
       "      <td>NaN</td>\n",
       "      <td>NaN</td>\n",
       "      <td>NaN</td>\n",
       "      <td>NaN</td>\n",
       "      <td>NaN</td>\n",
       "    </tr>\n",
       "    <tr>\n",
       "      <th>runtimeMinutes</th>\n",
       "      <td>NaN</td>\n",
       "      <td>1.000000</td>\n",
       "      <td>0.359969</td>\n",
       "      <td>0.333702</td>\n",
       "      <td>0.309109</td>\n",
       "    </tr>\n",
       "    <tr>\n",
       "      <th>averageRating</th>\n",
       "      <td>NaN</td>\n",
       "      <td>0.359969</td>\n",
       "      <td>1.000000</td>\n",
       "      <td>0.484695</td>\n",
       "      <td>-0.079510</td>\n",
       "    </tr>\n",
       "    <tr>\n",
       "      <th>numVotes</th>\n",
       "      <td>NaN</td>\n",
       "      <td>0.333702</td>\n",
       "      <td>0.484695</td>\n",
       "      <td>1.000000</td>\n",
       "      <td>0.306588</td>\n",
       "    </tr>\n",
       "    <tr>\n",
       "      <th>budget</th>\n",
       "      <td>NaN</td>\n",
       "      <td>0.309109</td>\n",
       "      <td>-0.079510</td>\n",
       "      <td>0.306588</td>\n",
       "      <td>1.000000</td>\n",
       "    </tr>\n",
       "  </tbody>\n",
       "</table>\n",
       "</div>"
      ],
      "text/plain": [
       "                isAdult  runtimeMinutes  averageRating  numVotes    budget\n",
       "isAdult             NaN             NaN            NaN       NaN       NaN\n",
       "runtimeMinutes      NaN        1.000000       0.359969  0.333702  0.309109\n",
       "averageRating       NaN        0.359969       1.000000  0.484695 -0.079510\n",
       "numVotes            NaN        0.333702       0.484695  1.000000  0.306588\n",
       "budget              NaN        0.309109      -0.079510  0.306588  1.000000"
      ]
     },
     "execution_count": 12,
     "metadata": {},
     "output_type": "execute_result"
    }
   ],
   "source": [
    "df.corr(numeric_only=True)"
   ]
  },
  {
   "cell_type": "code",
   "execution_count": 13,
   "metadata": {},
   "outputs": [
    {
     "data": {
      "text/html": [
       "<div>\n",
       "<style scoped>\n",
       "    .dataframe tbody tr th:only-of-type {\n",
       "        vertical-align: middle;\n",
       "    }\n",
       "\n",
       "    .dataframe tbody tr th {\n",
       "        vertical-align: top;\n",
       "    }\n",
       "\n",
       "    .dataframe thead th {\n",
       "        text-align: right;\n",
       "    }\n",
       "</style>\n",
       "<table border=\"1\" class=\"dataframe\">\n",
       "  <thead>\n",
       "    <tr style=\"text-align: right;\">\n",
       "      <th></th>\n",
       "      <th>isAdult</th>\n",
       "      <th>runtimeMinutes</th>\n",
       "      <th>averageRating</th>\n",
       "      <th>numVotes</th>\n",
       "      <th>budget</th>\n",
       "    </tr>\n",
       "  </thead>\n",
       "  <tbody>\n",
       "    <tr>\n",
       "      <th>count</th>\n",
       "      <td>3348.0</td>\n",
       "      <td>3348.000000</td>\n",
       "      <td>3348.00000</td>\n",
       "      <td>3.348000e+03</td>\n",
       "      <td>3.348000e+03</td>\n",
       "    </tr>\n",
       "    <tr>\n",
       "      <th>mean</th>\n",
       "      <td>0.0</td>\n",
       "      <td>112.739845</td>\n",
       "      <td>6.73853</td>\n",
       "      <td>2.155492e+05</td>\n",
       "      <td>5.039280e+07</td>\n",
       "    </tr>\n",
       "    <tr>\n",
       "      <th>std</th>\n",
       "      <td>0.0</td>\n",
       "      <td>19.927703</td>\n",
       "      <td>0.88221</td>\n",
       "      <td>2.480211e+05</td>\n",
       "      <td>5.178614e+07</td>\n",
       "    </tr>\n",
       "    <tr>\n",
       "      <th>min</th>\n",
       "      <td>0.0</td>\n",
       "      <td>63.000000</td>\n",
       "      <td>1.00000</td>\n",
       "      <td>5.000400e+04</td>\n",
       "      <td>1.800000e+01</td>\n",
       "    </tr>\n",
       "    <tr>\n",
       "      <th>25%</th>\n",
       "      <td>0.0</td>\n",
       "      <td>98.000000</td>\n",
       "      <td>6.20000</td>\n",
       "      <td>7.897700e+04</td>\n",
       "      <td>1.500000e+07</td>\n",
       "    </tr>\n",
       "    <tr>\n",
       "      <th>50%</th>\n",
       "      <td>0.0</td>\n",
       "      <td>109.000000</td>\n",
       "      <td>6.80000</td>\n",
       "      <td>1.290400e+05</td>\n",
       "      <td>3.200000e+07</td>\n",
       "    </tr>\n",
       "    <tr>\n",
       "      <th>75%</th>\n",
       "      <td>0.0</td>\n",
       "      <td>124.000000</td>\n",
       "      <td>7.30000</td>\n",
       "      <td>2.468495e+05</td>\n",
       "      <td>6.800000e+07</td>\n",
       "    </tr>\n",
       "    <tr>\n",
       "      <th>max</th>\n",
       "      <td>0.0</td>\n",
       "      <td>242.000000</td>\n",
       "      <td>9.30000</td>\n",
       "      <td>2.817283e+06</td>\n",
       "      <td>3.560000e+08</td>\n",
       "    </tr>\n",
       "  </tbody>\n",
       "</table>\n",
       "</div>"
      ],
      "text/plain": [
       "       isAdult  runtimeMinutes  averageRating      numVotes        budget\n",
       "count   3348.0     3348.000000     3348.00000  3.348000e+03  3.348000e+03\n",
       "mean       0.0      112.739845        6.73853  2.155492e+05  5.039280e+07\n",
       "std        0.0       19.927703        0.88221  2.480211e+05  5.178614e+07\n",
       "min        0.0       63.000000        1.00000  5.000400e+04  1.800000e+01\n",
       "25%        0.0       98.000000        6.20000  7.897700e+04  1.500000e+07\n",
       "50%        0.0      109.000000        6.80000  1.290400e+05  3.200000e+07\n",
       "75%        0.0      124.000000        7.30000  2.468495e+05  6.800000e+07\n",
       "max        0.0      242.000000        9.30000  2.817283e+06  3.560000e+08"
      ]
     },
     "execution_count": 13,
     "metadata": {},
     "output_type": "execute_result"
    }
   ],
   "source": [
    "df.describe()"
   ]
  },
  {
   "cell_type": "code",
   "execution_count": 14,
   "metadata": {},
   "outputs": [
    {
     "data": {
      "text/plain": [
       "<Axes: >"
      ]
     },
     "execution_count": 14,
     "metadata": {},
     "output_type": "execute_result"
    },
    {
     "data": {
      "image/png": "[encoded data removed]",
      "text/plain": [
       "<Figure size 640x480 with 2 Axes>"
      ]
     },
     "metadata": {},
     "output_type": "display_data"
    }
   ],
   "source": [
    "sns.heatmap(df.corr(numeric_only=True))"
   ]
  },
  {
   "cell_type": "markdown",
   "metadata": {},
   "source": [
    "1.Which movie had the largest budget?"
   ]
  },
  {
   "cell_type": "code",
   "execution_count": 15,
   "metadata": {},
   "outputs": [
    {
     "name": "stdout",
     "output_type": "stream",
     "text": [
      "3055\n"
     ]
    }
   ],
   "source": [
    "print(df[\"budget\"].idxmax())\n",
    "\n",
    "# Output the result\n",
    "#print(\"The movie with the largest budget is:\")\n",
    "#print(largest_budget_movie)"
   ]
  },
  {
   "cell_type": "markdown",
   "metadata": {},
   "source": [
    "2.Which movie in the dataset has the longest runtime?\n"
   ]
  },
  {
   "cell_type": "code",
   "execution_count": 16,
   "metadata": {},
   "outputs": [
    {
     "name": "stdout",
     "output_type": "stream",
     "text": [
      "The movie with the longest runtime is:\n",
      "originalTitle     Zack Snyder's Justice League\n",
      "runtimeMinutes                             242\n",
      "Name: 2216, dtype: object\n"
     ]
    }
   ],
   "source": [
    "longest_runtime_movie = df.loc[df[\"runtimeMinutes\"].idxmax()]\n",
    "\n",
    "# Output the result\n",
    "print(\"The movie with the longest runtime is:\")\n",
    "print(longest_runtime_movie[[\"originalTitle\", \"runtimeMinutes\"]])"
   ]
  },
  {
   "cell_type": "markdown",
   "metadata": {},
   "source": [
    "3.Which director has the most movies in this dataset?\n"
   ]
  },
  {
   "cell_type": "code",
   "execution_count": 17,
   "metadata": {},
   "outputs": [
    {
     "name": "stdout",
     "output_type": "stream",
     "text": [
      "Steven Spielberg\n",
      "30\n"
     ]
    }
   ],
   "source": [
    "director_counts = df[\"directors\"].value_counts()\n",
    "\n",
    "# Find the director with the most movies\n",
    "#most_movies_director = \n",
    "print(director_counts.idxmax())\n",
    "#most_movies_count = \n",
    "print(director_counts.max())\n"
   ]
  },
  {
   "cell_type": "markdown",
   "metadata": {},
   "source": [
    "4.Which movie has the highest number of votes?\n"
   ]
  },
  {
   "cell_type": "code",
   "execution_count": 19,
   "metadata": {},
   "outputs": [
    {
     "name": "stdout",
     "output_type": "stream",
     "text": [
      "id                               tt0111161\n",
      "primaryTitle      The Shawshank Redemption\n",
      "originalTitle     The Shawshank Redemption\n",
      "isAdult                                  0\n",
      "runtimeMinutes                         142\n",
      "genres                               Drama\n",
      "averageRating                          9.3\n",
      "numVotes                           2817283\n",
      "budget                            25000000\n",
      "directors                   Frank Darabont\n",
      "Name: 529, dtype: object\n"
     ]
    }
   ],
   "source": [
    "highest_votes_movie = df.loc[df['numVotes'].idxmax()]\n",
    "print(highest_votes_movie)"
   ]
  },
  {
   "cell_type": "markdown",
   "metadata": {},
   "source": [
    "5.What is the average rating of movies in the \"Drama\" genre?\n",
    "\n"
   ]
  },
  {
   "cell_type": "code",
   "execution_count": 23,
   "metadata": {},
   "outputs": [
    {
     "name": "stdout",
     "output_type": "stream",
     "text": [
      "7.054692556634304\n"
     ]
    }
   ],
   "source": [
    "drama_movies = df[df['genres'].str.contains('Drama', na=False)]\n",
    "\n",
    "# Calculate the average rating for \"Drama\" movies\n",
    "average_rating_drama = drama_movies['averageRating'].mean()\n",
    "print(average_rating_drama)\n"
   ]
  },
  {
   "cell_type": "markdown",
   "metadata": {},
   "source": []
  }
 ],
 "metadata": {
  "kernelspec": {
   "display_name": "Python 3",
   "language": "python",
   "name": "python3"
  },
  "language_info": {
   "codemirror_mode": {
    "name": "ipython",
    "version": 3
   },
   "file_extension": ".py",
   "mimetype": "text/x-python",
   "name": "python",
   "nbconvert_exporter": "python",
   "pygments_lexer": "ipython3",
   "version": "3.10.11"
  }
 },
 "nbformat": 4,
 "nbformat_minor": 2
}
